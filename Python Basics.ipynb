{
 "cells": [
  {
   "cell_type": "markdown",
   "id": "55895697",
   "metadata": {},
   "source": [
    "# Variables\n",
    "- In Python, a variable is a named reference to a value stored in the computer's memory, allowing developers to manipulate and work with data. Variables can hold various types of data, including numbers, strings, lists, dictionaries, or custom objects, and their values can be modified during the program's execution."
   ]
  },
  {
   "cell_type": "code",
   "execution_count": 85,
   "id": "ff894899",
   "metadata": {},
   "outputs": [],
   "source": [
    "name = 'huzefa' # Variable name is name. It can be consist of character and number but cannot be start with number\n",
    "age = 30"
   ]
  },
  {
   "cell_type": "code",
   "execution_count": 86,
   "id": "b1400cbe",
   "metadata": {},
   "outputs": [
    {
     "ename": "SyntaxError",
     "evalue": "cannot assign to literal here. Maybe you meant '==' instead of '='? (851004004.py, line 1)",
     "output_type": "error",
     "traceback": [
      "\u001b[1;36m  Cell \u001b[1;32mIn[86], line 1\u001b[1;36m\u001b[0m\n\u001b[1;33m    123 = 1\u001b[0m\n\u001b[1;37m    ^\u001b[0m\n\u001b[1;31mSyntaxError\u001b[0m\u001b[1;31m:\u001b[0m cannot assign to literal here. Maybe you meant '==' instead of '='?\n"
     ]
    }
   ],
   "source": [
    "123 = 1"
   ]
  },
  {
   "cell_type": "code",
   "execution_count": null,
   "id": "cfada7f3",
   "metadata": {},
   "outputs": [],
   "source": [
    "# We cannon use keyword as variable name\n",
    "if = 'hi'"
   ]
  },
  {
   "cell_type": "markdown",
   "id": "3cebcd72",
   "metadata": {},
   "source": [
    "# Expression and Statements\n",
    "- In Python, expressions are pieces of code that produce a value when evaluated. They can consist of literals, variables, operators, and function calls. Examples of expressions include 2 + 3, variable_name, len(\"hello\"), etc.\n",
    "- Statements, on the other hand, are complete lines of code that perform an action. They can include expressions but can also consist of control structures like if statements, loops, function definitions, etc. Essentially, statements are instructions that Python can execute. Examples of statements include assignment statements (x = 5), conditional statements (if, else, elif), loops (for, while), and function definitions (def my_function():).\n",
    "\n",
    "In summary:\n",
    "\n",
    "    Expressions produce values.\n",
    "    Statements perform actions or commands."
   ]
  },
  {
   "cell_type": "code",
   "execution_count": 87,
   "id": "93bfb411",
   "metadata": {},
   "outputs": [
    {
     "data": {
      "text/plain": [
       "2"
      ]
     },
     "execution_count": 87,
     "metadata": {},
     "output_type": "execute_result"
    }
   ],
   "source": [
    "1 + 1  # Expressions"
   ]
  },
  {
   "cell_type": "code",
   "execution_count": 88,
   "id": "412b5177",
   "metadata": {},
   "outputs": [
    {
     "data": {
      "text/plain": [
       "'Huzefa Battiwala'"
      ]
     },
     "execution_count": 88,
     "metadata": {},
     "output_type": "execute_result"
    }
   ],
   "source": [
    "'Huzefa Battiwala' # Expression"
   ]
  },
  {
   "cell_type": "code",
   "execution_count": 90,
   "id": "fc794b4d",
   "metadata": {},
   "outputs": [],
   "source": [
    "name = \"Huzefa Battiwala\" # statement"
   ]
  },
  {
   "cell_type": "code",
   "execution_count": 91,
   "id": "55b21540",
   "metadata": {},
   "outputs": [
    {
     "name": "stdout",
     "output_type": "stream",
     "text": [
      "Huzefa Battiwala\n"
     ]
    }
   ],
   "source": [
    "print(name) # statement"
   ]
  },
  {
   "cell_type": "code",
   "execution_count": 92,
   "id": "d2ea637e",
   "metadata": {},
   "outputs": [
    {
     "name": "stdout",
     "output_type": "stream",
     "text": [
      "Huzefa Battiwala\n"
     ]
    }
   ],
   "source": [
    "name = \"Huzefa Battiwala\";print(name) "
   ]
  },
  {
   "cell_type": "markdown",
   "id": "c87a94ef",
   "metadata": {},
   "source": [
    "# Comments\n",
    "- In Python, comments are text that are ignored by the interpreter during runtime and are used to provide explanations, documentation, or notes within the code for developers. "
   ]
  },
  {
   "cell_type": "code",
   "execution_count": 93,
   "id": "e56f6465",
   "metadata": {},
   "outputs": [],
   "source": [
    "# Comments"
   ]
  },
  {
   "cell_type": "markdown",
   "id": "ed7c2f3f",
   "metadata": {},
   "source": [
    "# Data types\n",
    "\n",
    "In Python, data types specify the type of values that variables can hold. Some of the common built-in data types in Python include:\n",
    "\n",
    "- Numeric Types:\n",
    "    - int: Integer values (e.g., 5, -3, 1000).\n",
    "    - float: Floating-point values (e.g., 3.14, -0.001, 2.0).\n",
    "\n",
    "- Sequence Types:\n",
    "    - str: String values, representing text (e.g., \"hello\", 'python', \"123\").\n",
    "    - list: Ordered collection of items (e.g., [1, 2, 3], ['a', 'b', 'c']).\n",
    "    - tuple: Ordered, immutable collection of items (e.g., (1, 2, 3), ('x', 'y', 'z')).\n",
    "\n",
    "- Mapping Type:\n",
    "    - dict: Collection of key-value pairs (e.g., {'name': 'John', 'age': 30}, {'a': 1, 'b': 2}).\n",
    "\n",
    "- Set Types:\n",
    "    - set: Unordered collection of unique items (e.g., {1, 2, 3}, {'a', 'b', 'c'}).\n",
    "    - frozenset: Immutable version of set.\n",
    "\n",
    "- Boolean Type:\n",
    "    - bool: Represents boolean values True or False.\n",
    "\n",
    "- None Type:\n",
    "    - None: Represents the absence of a value or a null value.\n",
    "\n",
    "- Binary Types:\n",
    "    - bytes: Immutable sequence of bytes (e.g., b'hello', b'\\x00\\xff').\n",
    "    - bytearray: Mutable sequence of bytes."
   ]
  },
  {
   "cell_type": "markdown",
   "id": "d0a2a39a",
   "metadata": {},
   "source": [
    "## String-Data type\n",
    "\n",
    "In Python, the string data type (str) represents sequences of characters, typically used to store and manipulate textual data. Strings can be created using single quotes (') or double quotes (\") interchangeably. They can contain letters, numbers, symbols, and whitespace characters"
   ]
  },
  {
   "cell_type": "code",
   "execution_count": 102,
   "id": "5db8481d",
   "metadata": {},
   "outputs": [
    {
     "name": "stdout",
     "output_type": "stream",
     "text": [
      "<class 'str'>\n"
     ]
    }
   ],
   "source": [
    "name = 'Huzefa Battiwala'\n",
    "print(type(name))"
   ]
  },
  {
   "cell_type": "code",
   "execution_count": 103,
   "id": "f67db38e",
   "metadata": {},
   "outputs": [
    {
     "data": {
      "text/plain": [
       "True"
      ]
     },
     "execution_count": 103,
     "metadata": {},
     "output_type": "execute_result"
    }
   ],
   "source": [
    "isinstance(name,str)"
   ]
  },
  {
   "cell_type": "code",
   "execution_count": 104,
   "id": "8f53f367",
   "metadata": {},
   "outputs": [],
   "source": [
    "name = 'Huzefa Battiwala'"
   ]
  },
  {
   "cell_type": "markdown",
   "id": "02ceb2c1",
   "metadata": {},
   "source": [
    "# Integers"
   ]
  },
  {
   "cell_type": "code",
   "execution_count": 98,
   "id": "90f080e3",
   "metadata": {},
   "outputs": [
    {
     "name": "stdout",
     "output_type": "stream",
     "text": [
      "<class 'int'>\n",
      "True\n"
     ]
    }
   ],
   "source": [
    "age = 2\n",
    "print(type(age))\n",
    "print(isinstance(age,int))"
   ]
  },
  {
   "cell_type": "markdown",
   "id": "755bf48c",
   "metadata": {},
   "source": [
    "# Float"
   ]
  },
  {
   "cell_type": "code",
   "execution_count": 100,
   "id": "ee60fc1b",
   "metadata": {},
   "outputs": [
    {
     "name": "stdout",
     "output_type": "stream",
     "text": [
      "<class 'float'>\n",
      "True\n"
     ]
    }
   ],
   "source": [
    "height = 6.0\n",
    "print(type(height))\n",
    "print(isinstance(height,float))"
   ]
  },
  {
   "cell_type": "markdown",
   "id": "ee16645e",
   "metadata": {},
   "source": [
    "# Coverting data type"
   ]
  },
  {
   "cell_type": "code",
   "execution_count": 101,
   "id": "a8e2fc27",
   "metadata": {},
   "outputs": [
    {
     "name": "stdout",
     "output_type": "stream",
     "text": [
      "<class 'int'>\n",
      "True\n"
     ]
    }
   ],
   "source": [
    "# From string to int\n",
    "age = '20'\n",
    "age = int(age)\n",
    "print(type(age))\n",
    "print(isinstance(age,int))"
   ]
  },
  {
   "cell_type": "markdown",
   "id": "f2302f21",
   "metadata": {},
   "source": [
    "# Operators"
   ]
  },
  {
   "cell_type": "markdown",
   "id": "1c04bc2a",
   "metadata": {},
   "source": [
    "## Airthmetic operators:\n",
    "- Arithmetic operators in Python are used to perform mathematical operations on numeric values. Here are the commonly used arithmetic operators:"
   ]
  },
  {
   "cell_type": "code",
   "execution_count": 105,
   "id": "0c5c79fe",
   "metadata": {},
   "outputs": [
    {
     "data": {
      "text/plain": [
       "25"
      ]
     },
     "execution_count": 105,
     "metadata": {},
     "output_type": "execute_result"
    }
   ],
   "source": [
    "# Addition (+): Adds two operands.\n",
    "\n",
    "num_1 = 10\n",
    "num_2 = 15\n",
    "num_1 + num_2"
   ]
  },
  {
   "cell_type": "code",
   "execution_count": 106,
   "id": "8f21174d",
   "metadata": {},
   "outputs": [
    {
     "data": {
      "text/plain": [
       "-5"
      ]
     },
     "execution_count": 106,
     "metadata": {},
     "output_type": "execute_result"
    }
   ],
   "source": [
    "# Subtraction (-): Subtracts the right operand from the left operand.\n",
    "\n",
    "num_1 = 10\n",
    "num_2 = 15\n",
    "num_1 - num_2"
   ]
  },
  {
   "cell_type": "code",
   "execution_count": 108,
   "id": "be1f0857",
   "metadata": {},
   "outputs": [
    {
     "data": {
      "text/plain": [
       "150"
      ]
     },
     "execution_count": 108,
     "metadata": {},
     "output_type": "execute_result"
    }
   ],
   "source": [
    "# Multiplication (*): Multiplies two operands\n",
    "\n",
    "num_1 = 10\n",
    "num_2 = 15\n",
    "num_1 * num_2"
   ]
  },
  {
   "cell_type": "code",
   "execution_count": 110,
   "id": "f8fec509",
   "metadata": {},
   "outputs": [
    {
     "data": {
      "text/plain": [
       "2.0"
      ]
     },
     "execution_count": 110,
     "metadata": {},
     "output_type": "execute_result"
    }
   ],
   "source": [
    "# Division (/): Divides the left operand by the right operand (returns a float).\n",
    "\n",
    "num_1 = 4\n",
    "num_2 = 2\n",
    "num_1 / num_2"
   ]
  },
  {
   "cell_type": "code",
   "execution_count": 111,
   "id": "5c01ffb3",
   "metadata": {},
   "outputs": [
    {
     "data": {
      "text/plain": [
       "2"
      ]
     },
     "execution_count": 111,
     "metadata": {},
     "output_type": "execute_result"
    }
   ],
   "source": [
    "# Floor Division (//): Divides the left operand by the right operand and returns the quotient \n",
    "# as an integer (floor division).\n",
    "\n",
    "num_1 = 4\n",
    "num_2 = 2\n",
    "num_1 // num_2"
   ]
  },
  {
   "cell_type": "code",
   "execution_count": 112,
   "id": "085609b1",
   "metadata": {},
   "outputs": [
    {
     "data": {
      "text/plain": [
       "0"
      ]
     },
     "execution_count": 112,
     "metadata": {},
     "output_type": "execute_result"
    }
   ],
   "source": [
    "# Modulus (%): Returns the remainder when the left operand is divided by the right operand.\n",
    "\n",
    "num_1 = 4\n",
    "num_2 = 2\n",
    "num_1 % num_2"
   ]
  },
  {
   "cell_type": "markdown",
   "id": "621c03a9",
   "metadata": {},
   "source": [
    "## Comparison operators:\n",
    "* Comparison operators in Python are used to compare the values of operands. They return boolean values (True or False) based on whether the comparison is true or false. Here are the commonly used comparison operators"
   ]
  },
  {
   "cell_type": "code",
   "execution_count": 114,
   "id": "a377da39",
   "metadata": {},
   "outputs": [
    {
     "name": "stdout",
     "output_type": "stream",
     "text": [
      "False\n"
     ]
    }
   ],
   "source": [
    "# Equal to (==): Checks if the values of two operands are equal\n",
    "result = 5 == 3  \n",
    "print(result)"
   ]
  },
  {
   "cell_type": "code",
   "execution_count": 115,
   "id": "982d8db9",
   "metadata": {},
   "outputs": [
    {
     "name": "stdout",
     "output_type": "stream",
     "text": [
      "True\n"
     ]
    }
   ],
   "source": [
    "# Not equal to (!=): Checks if the values of two operands are not equal.\n",
    "result = 5 != 3  \n",
    "print(result)"
   ]
  },
  {
   "cell_type": "code",
   "execution_count": 116,
   "id": "94554f6f",
   "metadata": {},
   "outputs": [
    {
     "name": "stdout",
     "output_type": "stream",
     "text": [
      "True\n"
     ]
    }
   ],
   "source": [
    "# Greater than (>): Checks if the left operand is greater than the right operand.\n",
    "result = 5 > 3  \n",
    "print(result)"
   ]
  },
  {
   "cell_type": "code",
   "execution_count": 117,
   "id": "4dc0a3ca",
   "metadata": {},
   "outputs": [
    {
     "name": "stdout",
     "output_type": "stream",
     "text": [
      "False\n"
     ]
    }
   ],
   "source": [
    "# Less than (<): Checks if the left operand is less than the right operand.\n",
    "result = 5 < 3  \n",
    "print(result)"
   ]
  },
  {
   "cell_type": "code",
   "execution_count": 118,
   "id": "4dff4bcf",
   "metadata": {},
   "outputs": [
    {
     "name": "stdout",
     "output_type": "stream",
     "text": [
      "True\n"
     ]
    }
   ],
   "source": [
    "# Greater than or equal to (>=): Checks if the left operand is greater than or equal to the right operand\n",
    "result = 5 >= 3  \n",
    "print(result)"
   ]
  },
  {
   "cell_type": "code",
   "execution_count": 119,
   "id": "fffe0019",
   "metadata": {},
   "outputs": [
    {
     "name": "stdout",
     "output_type": "stream",
     "text": [
      "False\n"
     ]
    }
   ],
   "source": [
    "# Less than or equal to (<=): Checks if the left operand is less than or equal to the right operand.\n",
    "result = 5 <= 3  \n",
    "print(result)"
   ]
  },
  {
   "cell_type": "markdown",
   "id": "e217a54c",
   "metadata": {},
   "source": [
    "## Logical operators\n",
    "- Logical operators in Python are used to perform logical operations on boolean values or expressions. They allow you to combine multiple conditions and evaluate them together"
   ]
  },
  {
   "cell_type": "code",
   "execution_count": 120,
   "id": "2cc8caa7",
   "metadata": {},
   "outputs": [
    {
     "name": "stdout",
     "output_type": "stream",
     "text": [
      "False\n",
      "False\n",
      "False\n",
      "True\n"
     ]
    }
   ],
   "source": [
    "# AND (and): Returns True if both operands are true, otherwise returns False.\n",
    "\n",
    "result = True and False\n",
    "print(result)\n",
    "result = False and True\n",
    "print(result)\n",
    "\n",
    "result = False and False\n",
    "print(result)\n",
    "\n",
    "result = True and True\n",
    "print(result)"
   ]
  },
  {
   "cell_type": "code",
   "execution_count": 121,
   "id": "cf9ffb05",
   "metadata": {},
   "outputs": [
    {
     "name": "stdout",
     "output_type": "stream",
     "text": [
      "True\n",
      "True\n",
      "False\n",
      "True\n"
     ]
    }
   ],
   "source": [
    "# OR (or): Returns True if at least one of the operands is true, otherwise returns False.\n",
    "\n",
    "result = True or False\n",
    "print(result)\n",
    "result = False or True\n",
    "print(result)\n",
    "\n",
    "result = False or False\n",
    "print(result)\n",
    "\n",
    "result = True or True\n",
    "print(result)"
   ]
  },
  {
   "cell_type": "code",
   "execution_count": 124,
   "id": "da9292ed",
   "metadata": {},
   "outputs": [
    {
     "name": "stdout",
     "output_type": "stream",
     "text": [
      "True\n",
      "False\n"
     ]
    }
   ],
   "source": [
    "# NOT (not): Returns the opposite boolean value of the operand.\n",
    "\n",
    "result = not False\n",
    "print(result)\n",
    "result = not True\n",
    "print(result)\n"
   ]
  },
  {
   "cell_type": "markdown",
   "id": "b64780bd",
   "metadata": {},
   "source": [
    "## Identity Operators:\n",
    "- It is used to test relationships variables"
   ]
  },
  {
   "cell_type": "code",
   "execution_count": 125,
   "id": "cca77452",
   "metadata": {},
   "outputs": [
    {
     "data": {
      "text/plain": [
       "False"
      ]
     },
     "execution_count": 125,
     "metadata": {},
     "output_type": "execute_result"
    }
   ],
   "source": [
    "# is: Returns True if both operands refer to the same object, otherwise returns False.\n",
    "lst_1 = [1,2,3,4,5]\n",
    "lst_2 = [1,2,3,4,5]\n",
    "lst_1 is lst_2"
   ]
  },
  {
   "cell_type": "code",
   "execution_count": 126,
   "id": "972cd57c",
   "metadata": {},
   "outputs": [
    {
     "data": {
      "text/plain": [
       "True"
      ]
     },
     "execution_count": 126,
     "metadata": {},
     "output_type": "execute_result"
    }
   ],
   "source": [
    "lst_1 = [1,2,3,4,5]\n",
    "lst_2 = [1,2,3,4,5]\n",
    "lst_1 is not lst_2"
   ]
  },
  {
   "cell_type": "markdown",
   "id": "a2b47db9",
   "metadata": {},
   "source": [
    "## Membership Operators\n",
    "It is used to test relationships between values"
   ]
  },
  {
   "cell_type": "code",
   "execution_count": 128,
   "id": "93856766",
   "metadata": {},
   "outputs": [
    {
     "data": {
      "text/plain": [
       "True"
      ]
     },
     "execution_count": 128,
     "metadata": {},
     "output_type": "execute_result"
    }
   ],
   "source": [
    "# in:  Returns True if a specified value is present in a sequence (e.g., string, list, tuple, set, or dictionary keys), \n",
    "# otherwise returns False.\n",
    "my_list = [1,2,3,4,5]\n",
    "num = 5\n",
    "num in my_list"
   ]
  },
  {
   "cell_type": "code",
   "execution_count": 129,
   "id": "11ca1686",
   "metadata": {},
   "outputs": [
    {
     "data": {
      "text/plain": [
       "False"
      ]
     },
     "execution_count": 129,
     "metadata": {},
     "output_type": "execute_result"
    }
   ],
   "source": [
    "# not in: Returns True if a specified value is not present in a sequence, otherwise returns False.\n",
    "my_list = [1,2,3,4,5]\n",
    "num = 5\n",
    "num not in my_list"
   ]
  },
  {
   "cell_type": "markdown",
   "id": "045bde64",
   "metadata": {},
   "source": [
    "# Ternary operator:\n",
    "In Python, the ternary operator is a conditional expression that allows you to write an if-else statement in a single line. It has the following syntax:"
   ]
  },
  {
   "cell_type": "code",
   "execution_count": 133,
   "id": "0834e889",
   "metadata": {},
   "outputs": [
    {
     "data": {
      "text/plain": [
       "'true_value'"
      ]
     },
     "execution_count": 133,
     "metadata": {},
     "output_type": "execute_result"
    }
   ],
   "source": [
    "condition = True\n",
    "result = 'true_value' if condition else 'false_value'\n",
    "result"
   ]
  },
  {
   "cell_type": "markdown",
   "id": "cf92908d",
   "metadata": {},
   "source": [
    "### String"
   ]
  },
  {
   "cell_type": "code",
   "execution_count": 139,
   "id": "e401fc77",
   "metadata": {},
   "outputs": [
    {
     "name": "stdout",
     "output_type": "stream",
     "text": [
      "Huzefa is my name\n",
      "Huzefa is my name\n",
      "30\n"
     ]
    }
   ],
   "source": [
    "name = 'Huzefa'\n",
    "name = \"huzefa\"\n",
    "\n",
    "# Concatenate\n",
    "phrase = \"Huzefa\"+\" is my name\"\n",
    "print(phrase)\n",
    "\n",
    "name = 'Huzefa'\n",
    "name+= ' is my name'\n",
    "print(name)\n",
    "\n",
    "age = str(30)\n",
    "print(age)"
   ]
  },
  {
   "cell_type": "code",
   "execution_count": 141,
   "id": "67fcb872",
   "metadata": {},
   "outputs": [
    {
     "name": "stdout",
     "output_type": "stream",
     "text": [
      "\n",
      "Huzefa\n",
      "is\n",
      "30\n",
      "years \n",
      "old\n",
      "\n"
     ]
    }
   ],
   "source": [
    "# Multi line string\n",
    "print(\"\"\"\n",
    "Huzefa\n",
    "is\n",
    "30\n",
    "years \n",
    "old\n",
    "\"\"\")"
   ]
  },
  {
   "cell_type": "code",
   "execution_count": 144,
   "id": "22ca0b24",
   "metadata": {},
   "outputs": [
    {
     "name": "stdout",
     "output_type": "stream",
     "text": [
      "HUZEFA\n",
      "huzefa\n",
      "Huzefa\n",
      "Hello world!\n"
     ]
    }
   ],
   "source": [
    "# Converts all characters in the string to upper, lower and first letter capital and first letter of every word capital\n",
    "name = 'huzefa'\n",
    "print(name.upper())\n",
    "\n",
    "name = 'HUZEFA'\n",
    "print(name.lower())\n",
    "\n",
    "name = 'huzefa'\n",
    "print(name.title())\n",
    "\n",
    "phrase = 'hello world!'\n",
    "print(phrase.capitalize())"
   ]
  },
  {
   "cell_type": "code",
   "execution_count": 145,
   "id": "b0b42598",
   "metadata": {},
   "outputs": [
    {
     "name": "stdout",
     "output_type": "stream",
     "text": [
      "['hello', 'world']\n"
     ]
    }
   ],
   "source": [
    "# Split the string\n",
    "phrase = 'hello world'\n",
    "print(phrase.split())"
   ]
  },
  {
   "cell_type": "code",
   "execution_count": 149,
   "id": "00d7fd6f",
   "metadata": {},
   "outputs": [
    {
     "name": "stdout",
     "output_type": "stream",
     "text": [
      "Hello World\n",
      "Hello World\n",
      "Hello World\n"
     ]
    }
   ],
   "source": [
    "# join the string\n",
    "data = ['Hello', 'World']\n",
    "print(' '.join(data))\n",
    "\n",
    "data = {'Hello', 'World'}\n",
    "print(' '.join(data))\n",
    "\n",
    "data = ('Hello', 'World')\n",
    "print(' '.join(data))"
   ]
  },
  {
   "cell_type": "code",
   "execution_count": 165,
   "id": "e3495102",
   "metadata": {},
   "outputs": [
    {
     "name": "stdout",
     "output_type": "stream",
     "text": [
      "6\n",
      "-1\n"
     ]
    }
   ],
   "source": [
    "# find-Returns the index of the first occurrence of a substring within the string, or -1 if not found.\n",
    "phrase = 'Hello World!'\n",
    "print(phrase.find('World'))\n",
    "\n",
    "# if value is not available, it provides an output -1\n",
    "phrase = 'Hello World!'\n",
    "print(phrase.find('h'))"
   ]
  },
  {
   "cell_type": "code",
   "execution_count": 151,
   "id": "2839c065",
   "metadata": {},
   "outputs": [
    {
     "name": "stdout",
     "output_type": "stream",
     "text": [
      "Hello Python\n"
     ]
    }
   ],
   "source": [
    "# replace(): Replaces occurrences of a substring with another substring.\n",
    "phrase = \"Hello World\"\n",
    "print(phrase.replace('World','Python'))"
   ]
  },
  {
   "cell_type": "code",
   "execution_count": 153,
   "id": "94ff2cff",
   "metadata": {},
   "outputs": [
    {
     "name": "stdout",
     "output_type": "stream",
     "text": [
      "True\n"
     ]
    }
   ],
   "source": [
    "# startswith(): Checks if the string starts with the specified prefix\n",
    "phrase = \"Hello World\"\n",
    "print(phrase.startswith('Hello'))"
   ]
  },
  {
   "cell_type": "code",
   "execution_count": 155,
   "id": "d0415c25",
   "metadata": {},
   "outputs": [
    {
     "name": "stdout",
     "output_type": "stream",
     "text": [
      "True\n"
     ]
    }
   ],
   "source": [
    "# endswith(): Checks if the string ends with the specified suffix.\n",
    "phrase = 'Hello World'\n",
    "print(phrase.endswith('ld'))"
   ]
  },
  {
   "cell_type": "code",
   "execution_count": 161,
   "id": "ca1fcab5",
   "metadata": {},
   "outputs": [
    {
     "name": "stdout",
     "output_type": "stream",
     "text": [
      "3\n"
     ]
    }
   ],
   "source": [
    "# count(): Returns the number of occurrences of a substring within the string\n",
    "phrase = 'Hello World'\n",
    "print(phrase.count('l'))"
   ]
  },
  {
   "cell_type": "code",
   "execution_count": 164,
   "id": "671cec4b",
   "metadata": {},
   "outputs": [
    {
     "name": "stdout",
     "output_type": "stream",
     "text": [
      "2\n"
     ]
    },
    {
     "ename": "ValueError",
     "evalue": "substring not found",
     "output_type": "error",
     "traceback": [
      "\u001b[1;31m---------------------------------------------------------------------------\u001b[0m",
      "\u001b[1;31mValueError\u001b[0m                                Traceback (most recent call last)",
      "Cell \u001b[1;32mIn[164], line 8\u001b[0m\n\u001b[0;32m      6\u001b[0m \u001b[38;5;66;03m# if the value is not available\u001b[39;00m\n\u001b[0;32m      7\u001b[0m phrase \u001b[38;5;241m=\u001b[39m \u001b[38;5;124m'\u001b[39m\u001b[38;5;124mHello World\u001b[39m\u001b[38;5;124m'\u001b[39m\n\u001b[1;32m----> 8\u001b[0m \u001b[38;5;28mprint\u001b[39m(\u001b[43mphrase\u001b[49m\u001b[38;5;241;43m.\u001b[39;49m\u001b[43mindex\u001b[49m\u001b[43m(\u001b[49m\u001b[38;5;124;43m'\u001b[39;49m\u001b[38;5;124;43mh\u001b[39;49m\u001b[38;5;124;43m'\u001b[39;49m\u001b[43m)\u001b[49m)\n",
      "\u001b[1;31mValueError\u001b[0m: substring not found"
     ]
    }
   ],
   "source": [
    "# index(): Returns the index of the first occurrence of a substring within the string, \n",
    "# or raises a ValueError if not found.\n",
    "phrase = 'Hello World'\n",
    "print(phrase.index('l'))\n",
    "\n",
    "# if the value is not available, it throws an error as -1\n",
    "phrase = 'Hello World'\n",
    "print(phrase.index('h'))"
   ]
  },
  {
   "cell_type": "code",
   "execution_count": 168,
   "id": "a7420a26",
   "metadata": {},
   "outputs": [
    {
     "name": "stdout",
     "output_type": "stream",
     "text": [
      "False\n",
      "True\n",
      "False\n"
     ]
    }
   ],
   "source": [
    "# isdigit(): Returns True if all characters in the string are digits, otherwise returns False.\n",
    "phrase = 'Hello World!'\n",
    "print(phrase.isdigit())\n",
    "\n",
    "phrase = '123'\n",
    "print(phrase.isdigit())\n",
    "\n",
    "phrase = '123a'\n",
    "print(phrase.isdigit())"
   ]
  },
  {
   "cell_type": "code",
   "execution_count": 170,
   "id": "187fbd28",
   "metadata": {},
   "outputs": [
    {
     "name": "stdout",
     "output_type": "stream",
     "text": [
      "False\n",
      "False\n",
      "False\n",
      "True\n"
     ]
    }
   ],
   "source": [
    "# isalpha(): Returns True if all characters in the string are alphabetic, otherwise returns False.\n",
    "phrase = 'Hello World'\n",
    "print(phrase.isalpha())\n",
    "\n",
    "phrase = 'Hello World1'\n",
    "print(phrase.isalpha())\n",
    "\n",
    "phrase = '123'\n",
    "print(phrase.isalpha())\n",
    "\n",
    "phrase = 'HelloWorld'\n",
    "print(phrase.isalpha())"
   ]
  },
  {
   "cell_type": "code",
   "execution_count": 174,
   "id": "5acfdb0c",
   "metadata": {},
   "outputs": [
    {
     "name": "stdout",
     "output_type": "stream",
     "text": [
      "False\n",
      "False\n",
      "True\n"
     ]
    }
   ],
   "source": [
    "# isalnum(): Returns True if all characters in the string are alphanumeric (either letters or numbers),\n",
    "# otherwise returns False.\n",
    "phrase = 'Hello World'\n",
    "print(phrase.isalnum())\n",
    "\n",
    "phrase = 'Hello World1'\n",
    "print(phrase.isalnum())\n",
    "\n",
    "phrase = 'HelloWorld1'\n",
    "print(phrase.isalnum())"
   ]
  },
  {
   "cell_type": "code",
   "execution_count": 184,
   "id": "3767af31",
   "metadata": {},
   "outputs": [
    {
     "name": "stdout",
     "output_type": "stream",
     "text": [
      "False\n",
      "True\n"
     ]
    }
   ],
   "source": [
    "# isspace(): Returns True if all characters in the string are whitespace characters, otherwise returns False\n",
    "phrase = 'Hello World'\n",
    "print(phrase.isspace())\n",
    "\n",
    "phrase = ' '\n",
    "print(phrase.isspace())"
   ]
  },
  {
   "cell_type": "code",
   "execution_count": 188,
   "id": "1af8f18c",
   "metadata": {},
   "outputs": [
    {
     "name": "stdout",
     "output_type": "stream",
     "text": [
      "('Hello', ' ', 'World! Welcome to Python tutorial.')\n"
     ]
    }
   ],
   "source": [
    "# partition(): Splits the string into three parts based on the first occurrence of a separator, \n",
    "# returning a tuple containing the part before the separator, the separator itself, and the part after the separator.\n",
    "phrase = 'Hello World! Welcome to Python tutorial.'\n",
    "print(phrase.partition(' '))"
   ]
  },
  {
   "cell_type": "code",
   "execution_count": 189,
   "id": "23318466",
   "metadata": {},
   "outputs": [
    {
     "data": {
      "text/plain": [
       "5"
      ]
     },
     "execution_count": 189,
     "metadata": {},
     "output_type": "execute_result"
    }
   ],
   "source": [
    "# len-global function with string\n",
    "phrase = 'Hello'\n",
    "len(phrase)"
   ]
  },
  {
   "cell_type": "markdown",
   "id": "c2321d4a",
   "metadata": {},
   "source": [
    "# Escape Character\n",
    "\n",
    "In Python, escaping characters is a mechanism used to represent special characters within a string. Special characters are those that have a special meaning in Python strings, such as newline (\\n), tab (\\t), single quote (\\'), double quote (\\\"), backslash (\\\\), etc."
   ]
  },
  {
   "cell_type": "code",
   "execution_count": 194,
   "id": "ffb5dc4a",
   "metadata": {},
   "outputs": [
    {
     "name": "stdout",
     "output_type": "stream",
     "text": [
      "Hello\n",
      " World\n",
      "Hello\\n World\n",
      "Hello World's\n"
     ]
    }
   ],
   "source": [
    "phrase = 'Hello\\n World'\n",
    "print(phrase)\n",
    "\n",
    "phrase = 'Hello\\\\n World'\n",
    "print(phrase)\n",
    "\n",
    "phrase = 'Hello World\\'s'\n",
    "print(phrase)"
   ]
  },
  {
   "cell_type": "markdown",
   "id": "49a11963",
   "metadata": {},
   "source": [
    "- In Python, strings are sequences of characters, and you can access individual characters or subsequences (slices) of characters using indexing and slicing.\n",
    "\n",
    "# Accessing Individual Characters:\n",
    "\n",
    "- You can access individual characters of a string using indexing. Indexing starts from 0 for the first character and goes up to len(string) - 1 for the last character."
   ]
  },
  {
   "cell_type": "code",
   "execution_count": 195,
   "id": "640704f7",
   "metadata": {},
   "outputs": [
    {
     "data": {
      "text/plain": [
       "'H'"
      ]
     },
     "execution_count": 195,
     "metadata": {},
     "output_type": "execute_result"
    }
   ],
   "source": [
    "phrase = 'Hello World'\n",
    "phrase[0]"
   ]
  },
  {
   "cell_type": "code",
   "execution_count": 196,
   "id": "5c7dff33",
   "metadata": {},
   "outputs": [
    {
     "data": {
      "text/plain": [
       "'e'"
      ]
     },
     "execution_count": 196,
     "metadata": {},
     "output_type": "execute_result"
    }
   ],
   "source": [
    "phrase[1]"
   ]
  },
  {
   "cell_type": "markdown",
   "id": "63db09b5",
   "metadata": {},
   "source": [
    "# Slicing Subsequences:\n",
    "\n",
    "- You can also extract subsequences (slices) of characters from a string using slicing. Slicing allows you to extract a portion of the string specified by start and end indices."
   ]
  },
  {
   "cell_type": "code",
   "execution_count": 197,
   "id": "e3da7eea",
   "metadata": {},
   "outputs": [
    {
     "data": {
      "text/plain": [
       "'Hello Worl'"
      ]
     },
     "execution_count": 197,
     "metadata": {},
     "output_type": "execute_result"
    }
   ],
   "source": [
    "phrase[:-1]"
   ]
  },
  {
   "cell_type": "markdown",
   "id": "8931112e",
   "metadata": {},
   "source": [
    "# Bool\n",
    "* Boolean is a data type in Python that represents one of two possible values: True or False. Boolean values are primarily used for logical operations, comparisons, and control flow in Python programs.\n",
    "* Lists, Tuple, set are False if they are empty\n"
   ]
  },
  {
   "cell_type": "code",
   "execution_count": 198,
   "id": "6ee662b1",
   "metadata": {},
   "outputs": [
    {
     "name": "stdout",
     "output_type": "stream",
     "text": [
      "Yes\n"
     ]
    }
   ],
   "source": [
    "done = True\n",
    "if done:\n",
    "    print('Yes')\n",
    "else:\n",
    "    print('No')"
   ]
  },
  {
   "cell_type": "code",
   "execution_count": 199,
   "id": "14c76807",
   "metadata": {},
   "outputs": [
    {
     "name": "stdout",
     "output_type": "stream",
     "text": [
      "No\n"
     ]
    }
   ],
   "source": [
    "done = False\n",
    "if done:\n",
    "    print('Yes')\n",
    "else:\n",
    "    print('No')"
   ]
  },
  {
   "cell_type": "code",
   "execution_count": 200,
   "id": "9da9d42e",
   "metadata": {},
   "outputs": [
    {
     "name": "stdout",
     "output_type": "stream",
     "text": [
      "No\n"
     ]
    }
   ],
   "source": [
    "done = \"\"\n",
    "if done:\n",
    "    print('Yes')\n",
    "else:\n",
    "    print('No')"
   ]
  },
  {
   "cell_type": "code",
   "execution_count": 201,
   "id": "98e29406",
   "metadata": {},
   "outputs": [
    {
     "name": "stdout",
     "output_type": "stream",
     "text": [
      "Yes\n"
     ]
    }
   ],
   "source": [
    "done = \"False\"\n",
    "if done:\n",
    "    print('Yes')\n",
    "else:\n",
    "    print('No')"
   ]
  },
  {
   "cell_type": "code",
   "execution_count": 202,
   "id": "04a4f032",
   "metadata": {},
   "outputs": [
    {
     "name": "stdout",
     "output_type": "stream",
     "text": [
      "True\n"
     ]
    }
   ],
   "source": [
    "my_list = ['book_1','book_2']\n",
    "print(all(my_list))"
   ]
  },
  {
   "cell_type": "code",
   "execution_count": 203,
   "id": "766b51be",
   "metadata": {},
   "outputs": [
    {
     "name": "stdout",
     "output_type": "stream",
     "text": [
      "True\n"
     ]
    }
   ],
   "source": [
    "my_list = ['book_1','book_2']\n",
    "print(any(my_list))"
   ]
  },
  {
   "cell_type": "code",
   "execution_count": 204,
   "id": "8a5638aa",
   "metadata": {},
   "outputs": [
    {
     "name": "stdout",
     "output_type": "stream",
     "text": [
      "True\n"
     ]
    }
   ],
   "source": [
    "my_list = ['book_2']\n",
    "print(all(my_list))"
   ]
  },
  {
   "cell_type": "markdown",
   "id": "c730651e",
   "metadata": {},
   "source": [
    "# Built-in functions"
   ]
  },
  {
   "cell_type": "code",
   "execution_count": 205,
   "id": "350d767d",
   "metadata": {},
   "outputs": [
    {
     "name": "stdout",
     "output_type": "stream",
     "text": [
      "-5\n",
      "5\n"
     ]
    }
   ],
   "source": [
    "# abs\n",
    "print(-5)\n",
    "print(abs(-5))"
   ]
  },
  {
   "cell_type": "code",
   "execution_count": 207,
   "id": "90021ddc",
   "metadata": {},
   "outputs": [
    {
     "name": "stdout",
     "output_type": "stream",
     "text": [
      "6\n"
     ]
    }
   ],
   "source": [
    "# round\n",
    "print(round(5.9,))"
   ]
  },
  {
   "cell_type": "markdown",
   "id": "6e899308",
   "metadata": {},
   "source": [
    "# User input"
   ]
  },
  {
   "cell_type": "code",
   "execution_count": 209,
   "id": "4f749e43",
   "metadata": {},
   "outputs": [
    {
     "name": "stdout",
     "output_type": "stream",
     "text": [
      "What is your age? 30\n",
      "Your age is 30\n"
     ]
    }
   ],
   "source": [
    "age = input('What is your age? ')\n",
    "print(\"Your age is \"+age)"
   ]
  },
  {
   "cell_type": "markdown",
   "id": "d1fe3ce5",
   "metadata": {},
   "source": [
    "# Control statements"
   ]
  },
  {
   "cell_type": "markdown",
   "id": "f72e7026",
   "metadata": {},
   "source": [
    "# Lists\n",
    "- In Python, a list is a versatile data structure that can contain a sequence of elements. Lists are ordered, mutable (modifiable), and can contain elements of different data types. "
   ]
  },
  {
   "cell_type": "code",
   "execution_count": 210,
   "id": "49553d58",
   "metadata": {},
   "outputs": [],
   "source": [
    "dogs = ['Roger','Syd',1,True]"
   ]
  },
  {
   "cell_type": "code",
   "execution_count": 212,
   "id": "08681d52",
   "metadata": {},
   "outputs": [
    {
     "name": "stdout",
     "output_type": "stream",
     "text": [
      "True\n"
     ]
    }
   ],
   "source": [
    "print('Roger' in dogs)"
   ]
  },
  {
   "cell_type": "code",
   "execution_count": 213,
   "id": "5b8b9820",
   "metadata": {},
   "outputs": [],
   "source": [
    "dogs = [] # empty list"
   ]
  },
  {
   "cell_type": "code",
   "execution_count": 216,
   "id": "35554521",
   "metadata": {},
   "outputs": [
    {
     "data": {
      "text/plain": [
       "'Roger'"
      ]
     },
     "execution_count": 216,
     "metadata": {},
     "output_type": "execute_result"
    }
   ],
   "source": [
    "# Accesing an element in list\n",
    "dogs = ['Roger','Syd',1,True]\n",
    "dogs[0]"
   ]
  },
  {
   "cell_type": "code",
   "execution_count": 217,
   "id": "333376dd",
   "metadata": {},
   "outputs": [
    {
     "data": {
      "text/plain": [
       "['Roger', 'Syd', 'Beau', True]"
      ]
     },
     "execution_count": 217,
     "metadata": {},
     "output_type": "execute_result"
    }
   ],
   "source": [
    "dogs[2] = 'Beau' # updating the element in list\n",
    "dogs"
   ]
  },
  {
   "cell_type": "code",
   "execution_count": 219,
   "id": "7e8a3b38",
   "metadata": {},
   "outputs": [
    {
     "data": {
      "text/plain": [
       "['Beau', True]"
      ]
     },
     "execution_count": 219,
     "metadata": {},
     "output_type": "execute_result"
    }
   ],
   "source": [
    "# Slicing the list\n",
    "dogs[2:4]"
   ]
  },
  {
   "cell_type": "code",
   "execution_count": 220,
   "id": "110b3c3d",
   "metadata": {},
   "outputs": [],
   "source": [
    "# adding an item in list with append\n",
    "dogs.append('Judah')"
   ]
  },
  {
   "cell_type": "code",
   "execution_count": 224,
   "id": "272e73f8",
   "metadata": {},
   "outputs": [
    {
     "name": "stdout",
     "output_type": "stream",
     "text": [
      "[1, 2, 3, 4, 5, 6, 7, 8, 9, 0]\n",
      "[1, 2, 3, 4, 5, 6, 7, 8, 9, 0, 6, 7, 8, 9, 0]\n",
      "[1, 2, 3, 4, 5, 6, 7, 8, 9, 0, 6, 7, 8, 9, 0]\n"
     ]
    }
   ],
   "source": [
    "# adding an items in list with extending with another list\n",
    "list_1 = [1,2,3,4,5]\n",
    "list_2 = [6,7,8,9,0]\n",
    "list_1.extend(list_2)\n",
    "print(list_1)\n",
    "\n",
    "print(list_1+list_2)\n",
    "list_1+=list_2\n",
    "print(list_1)"
   ]
  },
  {
   "cell_type": "code",
   "execution_count": 226,
   "id": "8983e9b7",
   "metadata": {},
   "outputs": [
    {
     "data": {
      "text/plain": [
       "[1, 2, 3, 4]"
      ]
     },
     "execution_count": 226,
     "metadata": {},
     "output_type": "execute_result"
    }
   ],
   "source": [
    "# Removing an item from list\n",
    "list_1 = [1,2,3,4,5]\n",
    "list_1.remove(5)\n",
    "list_1"
   ]
  },
  {
   "cell_type": "code",
   "execution_count": 228,
   "id": "5ade5e39",
   "metadata": {},
   "outputs": [
    {
     "name": "stdout",
     "output_type": "stream",
     "text": [
      "2\n",
      "[1, 3, 4, 5]\n"
     ]
    }
   ],
   "source": [
    "# pop an item from list\n",
    "list_1 = [1,2,3,4,5]\n",
    "a = list_1.pop(1)\n",
    "print(a)\n",
    "print(list_1)"
   ]
  },
  {
   "cell_type": "code",
   "execution_count": 234,
   "id": "3113e361",
   "metadata": {},
   "outputs": [
    {
     "name": "stdout",
     "output_type": "stream",
     "text": [
      "[1, 'Hello', 2, 3, 4, 5, 6, 7, 8, 9, 0]\n"
     ]
    }
   ],
   "source": [
    "# insert use to add an item in list at specific index and the previous number will shigt one index further\n",
    "list_1 = [1,2,3,4,5,6,7,8,9,0]\n",
    "list_1.insert(1,'Hello')\n",
    "print(list_1)"
   ]
  },
  {
   "cell_type": "code",
   "execution_count": 241,
   "id": "b6e28b2f",
   "metadata": {},
   "outputs": [
    {
     "data": {
      "text/plain": [
       "[1, 'Hello', 'Hello', 'Huzefa', 2, 3, 4, 5]"
      ]
     },
     "execution_count": 241,
     "metadata": {},
     "output_type": "execute_result"
    }
   ],
   "source": [
    "# inserting multiple items in list\n",
    "list_1 = [1,2,3,4,5]\n",
    "list_1[1:1] = ['Hello','Hello','Huzefa']\n",
    "list_1"
   ]
  },
  {
   "cell_type": "code",
   "execution_count": 243,
   "id": "9b156916",
   "metadata": {},
   "outputs": [
    {
     "name": "stdout",
     "output_type": "stream",
     "text": [
      "[1, 2, 3, 4, 5]\n"
     ]
    }
   ],
   "source": [
    "# Sorting a list: It sorted the list\n",
    "list_1 = [5,4,3,2,1]\n",
    "list_1.sort()\n",
    "print(list_1)"
   ]
  },
  {
   "cell_type": "code",
   "execution_count": 245,
   "id": "8d6ce512",
   "metadata": {},
   "outputs": [
    {
     "ename": "TypeError",
     "evalue": "'<' not supported between instances of 'int' and 'str'",
     "output_type": "error",
     "traceback": [
      "\u001b[1;31m---------------------------------------------------------------------------\u001b[0m",
      "\u001b[1;31mTypeError\u001b[0m                                 Traceback (most recent call last)",
      "Cell \u001b[1;32mIn[245], line 2\u001b[0m\n\u001b[0;32m      1\u001b[0m list_1 \u001b[38;5;241m=\u001b[39m [\u001b[38;5;124m'\u001b[39m\u001b[38;5;124mRoger\u001b[39m\u001b[38;5;124m'\u001b[39m,\u001b[38;5;124m'\u001b[39m\u001b[38;5;124mbeau\u001b[39m\u001b[38;5;124m'\u001b[39m,\u001b[38;5;124m'\u001b[39m\u001b[38;5;124mQuincy\u001b[39m\u001b[38;5;124m'\u001b[39m,\u001b[38;5;241m1\u001b[39m]\n\u001b[1;32m----> 2\u001b[0m \u001b[43mlist_1\u001b[49m\u001b[38;5;241;43m.\u001b[39;49m\u001b[43msort\u001b[49m\u001b[43m(\u001b[49m\u001b[43m)\u001b[49m\n\u001b[0;32m      3\u001b[0m \u001b[38;5;28mprint\u001b[39m(list_1)\n",
      "\u001b[1;31mTypeError\u001b[0m: '<' not supported between instances of 'int' and 'str'"
     ]
    }
   ],
   "source": [
    "list_1 = ['Roger','beau','Quincy',1]\n",
    "list_1.sort()\n",
    "print(list_1)"
   ]
  },
  {
   "cell_type": "code",
   "execution_count": 248,
   "id": "aaf52825",
   "metadata": {},
   "outputs": [
    {
     "name": "stdout",
     "output_type": "stream",
     "text": [
      "['beau', 'Quincy', 'Roger']\n"
     ]
    }
   ],
   "source": [
    "list_1 = ['Roger','beau','Quincy']\n",
    "list_1.sort(key=str.lower)\n",
    "print(list_1)"
   ]
  },
  {
   "cell_type": "code",
   "execution_count": null,
   "id": "881d4de6",
   "metadata": {},
   "outputs": [],
   "source": [
    "list_1 = ['Roger','beau','Quincy']\n",
    "list_1.sort()\n",
    "print(list_1)"
   ]
  },
  {
   "cell_type": "code",
   "execution_count": 250,
   "id": "4826ac93",
   "metadata": {},
   "outputs": [
    {
     "name": "stdout",
     "output_type": "stream",
     "text": [
      "[1, 2, 3, 45, 6, 87, 21, 69, 71, 3]\n",
      "[1, 2, 3, 3, 6, 21, 45, 69, 71, 87]\n"
     ]
    }
   ],
   "source": [
    "# Sorting: Without changing the order of original list\n",
    "\n",
    "list_1 = [1,2,3,45,6,87,21,69,71,3]\n",
    "list_2 = sorted(list_1)\n",
    "print(list_1)\n",
    "print(list_2)\n",
    "list_1.\n"
   ]
  },
  {
   "cell_type": "markdown",
   "id": "c537683d",
   "metadata": {},
   "source": [
    "# Tuples\n",
    "- Tuples are another fundamental data structure in Python, similar to lists, but with one key difference: they are immutable. This means that once created, the elements of a tuple cannot be changed or modified. Tuples are typically used to store collections of heterogeneous data (i.e., data of different types) and are commonly used for returning multiple values from a function."
   ]
  },
  {
   "cell_type": "code",
   "execution_count": 277,
   "id": "a69fd579",
   "metadata": {},
   "outputs": [],
   "source": [
    "names=('Roger','Syd')"
   ]
  },
  {
   "cell_type": "code",
   "execution_count": 278,
   "id": "33bb4c9e",
   "metadata": {},
   "outputs": [
    {
     "data": {
      "text/plain": [
       "'Roger'"
      ]
     },
     "execution_count": 278,
     "metadata": {},
     "output_type": "execute_result"
    }
   ],
   "source": [
    "names[0]"
   ]
  },
  {
   "cell_type": "code",
   "execution_count": 279,
   "id": "d3a0dd62",
   "metadata": {},
   "outputs": [
    {
     "data": {
      "text/plain": [
       "'Syd'"
      ]
     },
     "execution_count": 279,
     "metadata": {},
     "output_type": "execute_result"
    }
   ],
   "source": [
    "names[1]"
   ]
  },
  {
   "cell_type": "code",
   "execution_count": 280,
   "id": "9f8127e3",
   "metadata": {},
   "outputs": [
    {
     "data": {
      "text/plain": [
       "0"
      ]
     },
     "execution_count": 280,
     "metadata": {},
     "output_type": "execute_result"
    }
   ],
   "source": [
    "names.index('Roger')"
   ]
  },
  {
   "cell_type": "code",
   "execution_count": 281,
   "id": "7e610b6e",
   "metadata": {},
   "outputs": [
    {
     "data": {
      "text/plain": [
       "2"
      ]
     },
     "execution_count": 281,
     "metadata": {},
     "output_type": "execute_result"
    }
   ],
   "source": [
    "len(names)"
   ]
  },
  {
   "cell_type": "code",
   "execution_count": 282,
   "id": "68d7ff14",
   "metadata": {},
   "outputs": [
    {
     "name": "stdout",
     "output_type": "stream",
     "text": [
      "True\n"
     ]
    }
   ],
   "source": [
    "print('Roger' in names)"
   ]
  },
  {
   "cell_type": "code",
   "execution_count": 283,
   "id": "6cfbfe14",
   "metadata": {},
   "outputs": [],
   "source": [
    "name_1,name_2 = names"
   ]
  },
  {
   "cell_type": "code",
   "execution_count": 284,
   "id": "25a0544d",
   "metadata": {},
   "outputs": [
    {
     "data": {
      "text/plain": [
       "'Roger'"
      ]
     },
     "execution_count": 284,
     "metadata": {},
     "output_type": "execute_result"
    }
   ],
   "source": [
    "name_1"
   ]
  },
  {
   "cell_type": "code",
   "execution_count": 285,
   "id": "c7789447",
   "metadata": {},
   "outputs": [
    {
     "data": {
      "text/plain": [
       "['Roger', 'Syd']"
      ]
     },
     "execution_count": 285,
     "metadata": {},
     "output_type": "execute_result"
    }
   ],
   "source": [
    "sorted(names)"
   ]
  },
  {
   "cell_type": "code",
   "execution_count": 286,
   "id": "3137d1f4",
   "metadata": {},
   "outputs": [
    {
     "data": {
      "text/plain": [
       "('Roger', 'Syd')"
      ]
     },
     "execution_count": 286,
     "metadata": {},
     "output_type": "execute_result"
    }
   ],
   "source": [
    "names"
   ]
  },
  {
   "cell_type": "code",
   "execution_count": 287,
   "id": "ca527336",
   "metadata": {},
   "outputs": [],
   "source": [
    "new_names = ('Tina','Quincy')\n",
    "names += new_names"
   ]
  },
  {
   "cell_type": "code",
   "execution_count": 288,
   "id": "d6001747",
   "metadata": {},
   "outputs": [
    {
     "data": {
      "text/plain": [
       "('Roger', 'Syd', 'Tina', 'Quincy')"
      ]
     },
     "execution_count": 288,
     "metadata": {},
     "output_type": "execute_result"
    }
   ],
   "source": [
    "names"
   ]
  },
  {
   "cell_type": "markdown",
   "id": "90d471bf",
   "metadata": {},
   "source": [
    "# Dictionary\n",
    "- In Python, a dictionary is a collection of key-value pairs. Dictionaries are unordered, mutable (modifiable), and can contain elements of different data types."
   ]
  },
  {
   "cell_type": "code",
   "execution_count": 291,
   "id": "bfe17153",
   "metadata": {},
   "outputs": [],
   "source": [
    "dog = {'name':'Roger','age':8}"
   ]
  },
  {
   "cell_type": "code",
   "execution_count": 292,
   "id": "69619d49",
   "metadata": {},
   "outputs": [
    {
     "data": {
      "text/plain": [
       "'Roger'"
      ]
     },
     "execution_count": 292,
     "metadata": {},
     "output_type": "execute_result"
    }
   ],
   "source": [
    "dog['name']"
   ]
  },
  {
   "cell_type": "code",
   "execution_count": 293,
   "id": "48c43df3",
   "metadata": {},
   "outputs": [
    {
     "data": {
      "text/plain": [
       "8"
      ]
     },
     "execution_count": 293,
     "metadata": {},
     "output_type": "execute_result"
    }
   ],
   "source": [
    "dog['age']"
   ]
  },
  {
   "cell_type": "code",
   "execution_count": 294,
   "id": "b521efa5",
   "metadata": {},
   "outputs": [],
   "source": [
    "dog['name'] = 'Syd'"
   ]
  },
  {
   "cell_type": "code",
   "execution_count": 295,
   "id": "615ad54c",
   "metadata": {},
   "outputs": [
    {
     "data": {
      "text/plain": [
       "{'name': 'Syd', 'age': 8}"
      ]
     },
     "execution_count": 295,
     "metadata": {},
     "output_type": "execute_result"
    }
   ],
   "source": [
    "dog"
   ]
  },
  {
   "cell_type": "code",
   "execution_count": 299,
   "id": "958c635a",
   "metadata": {},
   "outputs": [
    {
     "name": "stdout",
     "output_type": "stream",
     "text": [
      "Syd\n",
      "Syd\n"
     ]
    }
   ],
   "source": [
    "# Accessing a dictionary\n",
    "print(dog.get('name'))\n",
    "print(dog['name'])"
   ]
  },
  {
   "cell_type": "code",
   "execution_count": 303,
   "id": "03f316e1",
   "metadata": {},
   "outputs": [
    {
     "name": "stdout",
     "output_type": "stream",
     "text": [
      "brown\n",
      "{'name': 'Roger', 'age': 8}\n"
     ]
    }
   ],
   "source": [
    "dog = {'name':'Roger','age':8}\n",
    "print(dog.get('color','brown'))\n",
    "print(dog)"
   ]
  },
  {
   "cell_type": "code",
   "execution_count": 304,
   "id": "d8176d64",
   "metadata": {},
   "outputs": [
    {
     "name": "stdout",
     "output_type": "stream",
     "text": [
      "green\n",
      "{'name': 'Roger', 'age': 8, 'color': 'green'}\n"
     ]
    }
   ],
   "source": [
    "dog = {'name':'Roger','age':8,'color':'green'}\n",
    "print(dog.get('color','brown'))\n",
    "print(dog)"
   ]
  },
  {
   "cell_type": "code",
   "execution_count": 305,
   "id": "dec1d638",
   "metadata": {},
   "outputs": [
    {
     "name": "stdout",
     "output_type": "stream",
     "text": [
      "{'name': 'Roger', 'age': 8}\n",
      "brown\n"
     ]
    }
   ],
   "source": [
    "dog = {'name':'Roger','age':8,'color':'brown'}\n",
    "a = dog.pop('color')\n",
    "print(dog)\n",
    "print(a)"
   ]
  },
  {
   "cell_type": "code",
   "execution_count": 306,
   "id": "49f5c268",
   "metadata": {},
   "outputs": [
    {
     "name": "stdout",
     "output_type": "stream",
     "text": [
      "{'name': 'Roger', 'age': 8}\n",
      "('color', 'brown')\n"
     ]
    }
   ],
   "source": [
    "# popitem-remove last item in dictionary\n",
    "dog = {'name':'Roger','age':8,'color':'brown'}\n",
    "a = dog.popitem()\n",
    "print(dog)\n",
    "print(a)"
   ]
  },
  {
   "cell_type": "code",
   "execution_count": 307,
   "id": "5dc27613",
   "metadata": {},
   "outputs": [
    {
     "name": "stdout",
     "output_type": "stream",
     "text": [
      "True\n",
      "False\n"
     ]
    }
   ],
   "source": [
    "print('age' in dog)\n",
    "print(8 in dog)"
   ]
  },
  {
   "cell_type": "code",
   "execution_count": 308,
   "id": "4e783909",
   "metadata": {},
   "outputs": [
    {
     "name": "stdout",
     "output_type": "stream",
     "text": [
      "dict_keys(['name', 'age', 'color'])\n"
     ]
    }
   ],
   "source": [
    "# keys-to view the keys in dictionary\n",
    "dog = {'name':'Roger','age':8,'color':'brown'}\n",
    "print(dog.keys())"
   ]
  },
  {
   "cell_type": "code",
   "execution_count": 309,
   "id": "15cc83d0",
   "metadata": {},
   "outputs": [
    {
     "name": "stdout",
     "output_type": "stream",
     "text": [
      "dict_values(['Roger', 8, 'brown'])\n"
     ]
    }
   ],
   "source": [
    "# values-to view the values in dictionary\n",
    "dog = {'name':'Roger','age':8,'color':'brown'}\n",
    "print(dog.values())"
   ]
  },
  {
   "cell_type": "code",
   "execution_count": 311,
   "id": "abefe213",
   "metadata": {},
   "outputs": [
    {
     "name": "stdout",
     "output_type": "stream",
     "text": [
      "dict_items([('name', 'Roger'), ('age', 8), ('color', ['brown', 'green'])])\n"
     ]
    }
   ],
   "source": [
    "#items-to view the keys and values in dictionary\n",
    "dog = {'name':'Roger','age':8,'color':['brown','green']}\n",
    "print(dog.items())"
   ]
  },
  {
   "cell_type": "code",
   "execution_count": 313,
   "id": "ea28af1c",
   "metadata": {},
   "outputs": [
    {
     "name": "stdout",
     "output_type": "stream",
     "text": [
      "name Roger\n",
      "age 8\n",
      "color ['brown', 'green']\n"
     ]
    }
   ],
   "source": [
    "for i,j in dog.items():\n",
    "    print(i,j)"
   ]
  },
  {
   "cell_type": "code",
   "execution_count": 314,
   "id": "cdb55f57",
   "metadata": {},
   "outputs": [
    {
     "data": {
      "text/plain": [
       "3"
      ]
     },
     "execution_count": 314,
     "metadata": {},
     "output_type": "execute_result"
    }
   ],
   "source": [
    "len(dog)"
   ]
  },
  {
   "cell_type": "code",
   "execution_count": 317,
   "id": "eaf83cb2",
   "metadata": {},
   "outputs": [
    {
     "name": "stdout",
     "output_type": "stream",
     "text": [
      "{'name': 'Roger', 'age': 8, 'color': ['brown', 'green'], 'favorite food': 'Meat'}\n"
     ]
    }
   ],
   "source": [
    "# Adding key value pair to dictionary\n",
    "dog['favorite food']='Meat'\n",
    "print(dog)"
   ]
  },
  {
   "cell_type": "code",
   "execution_count": 318,
   "id": "5805dbf9",
   "metadata": {},
   "outputs": [],
   "source": [
    "dog.clear()"
   ]
  },
  {
   "cell_type": "code",
   "execution_count": 319,
   "id": "60686917",
   "metadata": {},
   "outputs": [
    {
     "data": {
      "text/plain": [
       "{}"
      ]
     },
     "execution_count": 319,
     "metadata": {},
     "output_type": "execute_result"
    }
   ],
   "source": [
    "dog"
   ]
  },
  {
   "cell_type": "code",
   "execution_count": 320,
   "id": "08a00c9d",
   "metadata": {},
   "outputs": [
    {
     "name": "stdout",
     "output_type": "stream",
     "text": [
      "{'name': 'Roger', 'age': 8}\n"
     ]
    }
   ],
   "source": [
    "dog = {'name':'Roger','age':8,'color':'brown'}\n",
    "del dog['color']\n",
    "print(dog)"
   ]
  },
  {
   "cell_type": "code",
   "execution_count": 323,
   "id": "09289ed7",
   "metadata": {},
   "outputs": [],
   "source": [
    "dog.setdefault('favorite')"
   ]
  },
  {
   "cell_type": "code",
   "execution_count": 324,
   "id": "3273603c",
   "metadata": {},
   "outputs": [
    {
     "data": {
      "text/plain": [
       "{'name': 'Roger', 'age': 8, 'food': 'meat', 'favorite': None}"
      ]
     },
     "execution_count": 324,
     "metadata": {},
     "output_type": "execute_result"
    }
   ],
   "source": [
    "dog"
   ]
  },
  {
   "cell_type": "code",
   "execution_count": 327,
   "id": "c00541c6",
   "metadata": {},
   "outputs": [],
   "source": [
    "# Dictionary comprehension\n",
    "my_dict = {'a':1,'b':2,'c':3}\n",
    "my_dict={key:value**2 for key,value in my_dict.items() }"
   ]
  },
  {
   "cell_type": "code",
   "execution_count": 328,
   "id": "e7903dba",
   "metadata": {},
   "outputs": [
    {
     "data": {
      "text/plain": [
       "{'a': 1, 'b': 4, 'c': 9}"
      ]
     },
     "execution_count": 328,
     "metadata": {},
     "output_type": "execute_result"
    }
   ],
   "source": [
    "my_dict"
   ]
  },
  {
   "cell_type": "markdown",
   "id": "14d1c118",
   "metadata": {},
   "source": [
    "# Sets\n",
    "\n",
    "- In Python, a set is an unordered collection of unique elements. Sets are mutable (modifiable), but they do not support duplicate elements. "
   ]
  },
  {
   "cell_type": "code",
   "execution_count": 329,
   "id": "390421c5",
   "metadata": {},
   "outputs": [],
   "source": [
    "names = {'Roger','Syd'}"
   ]
  },
  {
   "cell_type": "code",
   "execution_count": 332,
   "id": "4bc3598c",
   "metadata": {},
   "outputs": [
    {
     "name": "stdout",
     "output_type": "stream",
     "text": [
      "{'Roger'}\n"
     ]
    }
   ],
   "source": [
    "name_1 = {'Roger'}\n",
    "intersect = name_1 & names\n",
    "print(intersect)"
   ]
  },
  {
   "cell_type": "code",
   "execution_count": 337,
   "id": "9acfcf0e",
   "metadata": {},
   "outputs": [
    {
     "data": {
      "text/plain": [
       "{'Syd'}"
      ]
     },
     "execution_count": 337,
     "metadata": {},
     "output_type": "execute_result"
    }
   ],
   "source": [
    "name_set_1 = {'Roger','Syd'}\n",
    "name_set_2 = {'Roger'}\n",
    "_ = name_set_1 - name_set_2\n",
    "_"
   ]
  },
  {
   "cell_type": "code",
   "execution_count": 339,
   "id": "0676229a",
   "metadata": {},
   "outputs": [
    {
     "name": "stdout",
     "output_type": "stream",
     "text": [
      "{2, 4, 6, 8, 10, 12}\n"
     ]
    }
   ],
   "source": [
    "# Set Comprehensions:\n",
    "# Set comprehensions provide a concise way to create sets based on existing sets or other iterables.\n",
    "num_set = {1,2,3,4,5,6,6}\n",
    "num_set={x*2 for x in num_set}\n",
    "print(num_set)"
   ]
  },
  {
   "cell_type": "markdown",
   "id": "6ecadb0c",
   "metadata": {},
   "source": [
    "# Functions\n",
    "- In Python, a function is a block of reusable code that performs a specific task. Functions allow you to organize code into manageable pieces, improve code readability, and promote code reusability. \n",
    "- The function can contatin one or more parameters"
   ]
  },
  {
   "cell_type": "code",
   "execution_count": 341,
   "id": "75363b88",
   "metadata": {},
   "outputs": [],
   "source": [
    "def hello():\n",
    "    print('Hello!')"
   ]
  },
  {
   "cell_type": "code",
   "execution_count": 342,
   "id": "30768311",
   "metadata": {},
   "outputs": [
    {
     "name": "stdout",
     "output_type": "stream",
     "text": [
      "Hello!\n"
     ]
    }
   ],
   "source": [
    "hello()"
   ]
  },
  {
   "cell_type": "code",
   "execution_count": 343,
   "id": "dbc0369c",
   "metadata": {},
   "outputs": [],
   "source": [
    "def hello(name):\n",
    "    print('Hello! ' + name)"
   ]
  },
  {
   "cell_type": "code",
   "execution_count": 344,
   "id": "91cd9010",
   "metadata": {},
   "outputs": [
    {
     "name": "stdout",
     "output_type": "stream",
     "text": [
      "Hello! Huzefa\n"
     ]
    }
   ],
   "source": [
    "hello('Huzefa')"
   ]
  },
  {
   "cell_type": "code",
   "execution_count": 346,
   "id": "12a4bb81",
   "metadata": {},
   "outputs": [
    {
     "name": "stdout",
     "output_type": "stream",
     "text": [
      "Hello! my friend\n"
     ]
    }
   ],
   "source": [
    "# Parameters and Arguments: Functions can accept input parameters, which are specified within the parentheses in the \n",
    "# function definition. When calling the function, values passed to these parameters are called arguments.\n",
    "def hello(name='my friend'):\n",
    "    print('Hello! '+ name)\n",
    "hello()"
   ]
  },
  {
   "cell_type": "code",
   "execution_count": 348,
   "id": "228d4e20",
   "metadata": {},
   "outputs": [
    {
     "name": "stdout",
     "output_type": "stream",
     "text": [
      "Hello! Huzefa, you are 30 years old.\n"
     ]
    }
   ],
   "source": [
    "def hello(name,age):\n",
    "    print('Hello! '+ name +\", you are \"+str(age)+\" years old.\")\n",
    "hello('Huzefa',30)"
   ]
  },
  {
   "cell_type": "code",
   "execution_count": 349,
   "id": "fec70b85",
   "metadata": {},
   "outputs": [
    {
     "name": "stdout",
     "output_type": "stream",
     "text": [
      "Hello, World\n"
     ]
    }
   ],
   "source": [
    "# Default Parameters:\n",
    "# Function parameters can have default values, which are used when the caller does not provide a value for the parameter.\n",
    "\n",
    "def greet(name=\"World\"):\n",
    "    print(\"Hello,\", name)\n",
    "\n",
    "greet()  # Calling greet without providing a name argument, uses the default value \"World\"\n"
   ]
  },
  {
   "cell_type": "code",
   "execution_count": null,
   "id": "93bba2aa",
   "metadata": {},
   "outputs": [],
   "source": [
    "# Variable Scope\n",
    "# Variables defined inside a function are local to that function and cannot be accessed outside of it. \n",
    "# Global variables, defined outside of any function, can be accessed within functions using the global keyword.\n"
   ]
  },
  {
   "cell_type": "code",
   "execution_count": 355,
   "id": "65a0484f",
   "metadata": {},
   "outputs": [
    {
     "name": "stdout",
     "output_type": "stream",
     "text": [
      "8\n"
     ]
    }
   ],
   "source": [
    "age = 8 \n",
    "\n",
    "def test():\n",
    "    print(age)\n",
    "    \n",
    "print(age)"
   ]
  },
  {
   "cell_type": "code",
   "execution_count": 356,
   "id": "99dcce5e",
   "metadata": {},
   "outputs": [
    {
     "name": "stdout",
     "output_type": "stream",
     "text": [
      "8\n"
     ]
    }
   ],
   "source": [
    "age = 8 # Global variable, its declare outside the variable\n",
    "\n",
    "def test():\n",
    "    age=7\n",
    "    print(age)\n",
    "    \n",
    "print(age)"
   ]
  },
  {
   "cell_type": "code",
   "execution_count": 1,
   "id": "08c91d5b",
   "metadata": {},
   "outputs": [
    {
     "ename": "NameError",
     "evalue": "name 'age' is not defined",
     "output_type": "error",
     "traceback": [
      "\u001b[1;31m---------------------------------------------------------------------------\u001b[0m",
      "\u001b[1;31mNameError\u001b[0m                                 Traceback (most recent call last)",
      "Cell \u001b[1;32mIn[1], line 5\u001b[0m\n\u001b[0;32m      2\u001b[0m     age\u001b[38;5;241m=\u001b[39m\u001b[38;5;241m8\u001b[39m \u001b[38;5;66;03m# local variable, its decleare inside the function\u001b[39;00m\n\u001b[0;32m      3\u001b[0m     \u001b[38;5;28mprint\u001b[39m(age)\n\u001b[1;32m----> 5\u001b[0m \u001b[38;5;28mprint\u001b[39m(\u001b[43mage\u001b[49m)\n",
      "\u001b[1;31mNameError\u001b[0m: name 'age' is not defined"
     ]
    }
   ],
   "source": [
    "def test():\n",
    "    age=8 # local variable, its decleare inside the function\n",
    "    print(age)\n",
    "    \n",
    "print(age) # This will throw an error because the variable is \n",
    "# inside the function"
   ]
  },
  {
   "cell_type": "code",
   "execution_count": 3,
   "id": "1dc93679",
   "metadata": {},
   "outputs": [
    {
     "name": "stdout",
     "output_type": "stream",
     "text": [
      "5\n",
      "5\n"
     ]
    }
   ],
   "source": [
    "def test():\n",
    "    global age\n",
    "    age=5\n",
    "    print(age)\n",
    "    \n",
    "\n",
    "test()    \n",
    "print(age) # Before accessing the variable inside the function,\n",
    "# the function needs to be exexcuted before"
   ]
  },
  {
   "cell_type": "code",
   "execution_count": 4,
   "id": "5a396b25",
   "metadata": {},
   "outputs": [],
   "source": [
    "# Nested Function: A function inside a function is \n",
    "# called as Nested function. Nested function can only be accessed inside\n",
    "# the function and not outside the function\n",
    "\n",
    "def talk(phrase):\n",
    "    def say(word):\n",
    "        print(word)\n",
    "    \n",
    "    words = phrase.split()\n",
    "    for word in words:\n",
    "        say(word)"
   ]
  },
  {
   "cell_type": "code",
   "execution_count": 5,
   "id": "68309333",
   "metadata": {},
   "outputs": [
    {
     "ename": "NameError",
     "evalue": "name 'say' is not defined",
     "output_type": "error",
     "traceback": [
      "\u001b[1;31m---------------------------------------------------------------------------\u001b[0m",
      "\u001b[1;31mNameError\u001b[0m                                 Traceback (most recent call last)",
      "Cell \u001b[1;32mIn[5], line 1\u001b[0m\n\u001b[1;32m----> 1\u001b[0m \u001b[43msay\u001b[49m()\n",
      "\u001b[1;31mNameError\u001b[0m: name 'say' is not defined"
     ]
    }
   ],
   "source": [
    "say()"
   ]
  },
  {
   "cell_type": "code",
   "execution_count": 14,
   "id": "ca636b9e",
   "metadata": {},
   "outputs": [],
   "source": [
    "# In Python, the nonlocal keyword is used to indicate that a variable \n",
    "# in a nested function scope is not local to that function but is \n",
    "# defined in the enclosing (outer) scope. This allows you to modify \n",
    "# variables from an outer scope within a nested function. \n",
    "# The nonlocal keyword is typically used when you want to update\n",
    "# variables in an enclosing scope from within a nested function,\n",
    "# especially when dealing with closures.\n",
    "\n",
    "def outer_function():\n",
    "    x = 10\n",
    "    def inner_function():\n",
    "        x+=5\n",
    "    inner_function()\n",
    "    print(f\"Value of x after modification {x}\")"
   ]
  },
  {
   "cell_type": "code",
   "execution_count": 15,
   "id": "b2d4e6fe",
   "metadata": {},
   "outputs": [
    {
     "ename": "UnboundLocalError",
     "evalue": "local variable 'x' referenced before assignment",
     "output_type": "error",
     "traceback": [
      "\u001b[1;31m---------------------------------------------------------------------------\u001b[0m",
      "\u001b[1;31mUnboundLocalError\u001b[0m                         Traceback (most recent call last)",
      "Cell \u001b[1;32mIn[15], line 1\u001b[0m\n\u001b[1;32m----> 1\u001b[0m \u001b[43mouter_function\u001b[49m\u001b[43m(\u001b[49m\u001b[43m)\u001b[49m\n",
      "Cell \u001b[1;32mIn[14], line 13\u001b[0m, in \u001b[0;36mouter_function\u001b[1;34m()\u001b[0m\n\u001b[0;32m     11\u001b[0m \u001b[38;5;28;01mdef\u001b[39;00m \u001b[38;5;21minner_function\u001b[39m():\n\u001b[0;32m     12\u001b[0m     x\u001b[38;5;241m+\u001b[39m\u001b[38;5;241m=\u001b[39m\u001b[38;5;241m5\u001b[39m\n\u001b[1;32m---> 13\u001b[0m \u001b[43minner_function\u001b[49m\u001b[43m(\u001b[49m\u001b[43m)\u001b[49m\n\u001b[0;32m     14\u001b[0m \u001b[38;5;28mprint\u001b[39m(\u001b[38;5;124mf\u001b[39m\u001b[38;5;124m\"\u001b[39m\u001b[38;5;124mValue of x after modification \u001b[39m\u001b[38;5;132;01m{\u001b[39;00mx\u001b[38;5;132;01m}\u001b[39;00m\u001b[38;5;124m\"\u001b[39m)\n",
      "Cell \u001b[1;32mIn[14], line 12\u001b[0m, in \u001b[0;36mouter_function.<locals>.inner_function\u001b[1;34m()\u001b[0m\n\u001b[0;32m     11\u001b[0m \u001b[38;5;28;01mdef\u001b[39;00m \u001b[38;5;21minner_function\u001b[39m():\n\u001b[1;32m---> 12\u001b[0m     x\u001b[38;5;241m+\u001b[39m\u001b[38;5;241m=\u001b[39m\u001b[38;5;241m5\u001b[39m\n",
      "\u001b[1;31mUnboundLocalError\u001b[0m: local variable 'x' referenced before assignment"
     ]
    }
   ],
   "source": [
    "outer_function()"
   ]
  },
  {
   "cell_type": "code",
   "execution_count": 16,
   "id": "a826a469",
   "metadata": {},
   "outputs": [
    {
     "name": "stdout",
     "output_type": "stream",
     "text": [
      "Value of x after modification 15\n"
     ]
    }
   ],
   "source": [
    "def outer_function():\n",
    "    x = 10\n",
    "    def inner_function():\n",
    "        nonlocal x\n",
    "        x+=5\n",
    "    inner_function()\n",
    "    print(f\"Value of x after modification {x}\")\n",
    "outer_function()"
   ]
  },
  {
   "cell_type": "markdown",
   "id": "24d47df9",
   "metadata": {},
   "source": [
    "# Objects\n",
    "- In python, everything is an object. This includes integers, strings, functions, classes, modeules, and even types like int and str. Hence, Python is said to be Object oriented programming language. Everything in python, we interact is an object, including variables, functions and data structures. Objects have an attribute (charecteristics) and methods (functions associated with them)\n",
    "- Objects have types, which determines what kind of object it is and what operations can be performed on it.\n",
    "- We can define your own custom objects (classes) in Python, allowing you to create new types of objects with custom attributes and methods.\n",
    "- Some objects in Python are mutable, meaning their value can be changed after creation (e.g., lists), while others are immutable, meaning their value cannot be changed (e.g., strings, tuples)."
   ]
  },
  {
   "cell_type": "markdown",
   "id": "c10fab8b",
   "metadata": {},
   "source": [
    "# Loops\n",
    "- Loops in Python allow you to execute a block of code repeatedly. There are mainly two types of loops in Python: for loops and while loops.\n",
    "1. for Loops: for loops are used to iterate over a sequence (such as a list, tuple, string, or range) and execute the block of code for each item in the sequence.\n",
    "2. 'while' loops: while loops are used to execute a block of code repeatedly as long as a specified condition is true"
   ]
  },
  {
   "cell_type": "code",
   "execution_count": 22,
   "id": "595d4273",
   "metadata": {},
   "outputs": [
    {
     "name": "stdout",
     "output_type": "stream",
     "text": [
      "The condition is True\n"
     ]
    }
   ],
   "source": [
    "# While loops\n",
    "condition = True\n",
    "while condition == True:\n",
    "    print(\"The condition is True\")\n",
    "    condition=False"
   ]
  },
  {
   "cell_type": "code",
   "execution_count": 23,
   "id": "394a9283",
   "metadata": {},
   "outputs": [
    {
     "name": "stdout",
     "output_type": "stream",
     "text": [
      "The condition is true\n",
      "The condition is true\n",
      "The condition is true\n",
      "The condition is true\n",
      "The condition is true\n",
      "The condition is true\n",
      "The condition is true\n",
      "The condition is true\n",
      "The condition is true\n",
      "The condition is true\n"
     ]
    }
   ],
   "source": [
    "count = 0\n",
    "while count<10:\n",
    "    print(\"The condition is true\")\n",
    "    count+=1"
   ]
  },
  {
   "cell_type": "code",
   "execution_count": 27,
   "id": "3b5d35f1",
   "metadata": {},
   "outputs": [
    {
     "name": "stdout",
     "output_type": "stream",
     "text": [
      "a\n",
      "b\n",
      "c\n",
      "d\n",
      "e\n"
     ]
    }
   ],
   "source": [
    "# For Loops\n",
    "items = ['a','b','c','d','e']\n",
    "for i in items:\n",
    "    print(i)"
   ]
  },
  {
   "cell_type": "code",
   "execution_count": 29,
   "id": "7a7f6563",
   "metadata": {},
   "outputs": [
    {
     "name": "stdout",
     "output_type": "stream",
     "text": [
      "0 a\n",
      "1 b\n",
      "2 c\n",
      "3 d\n",
      "4 e\n"
     ]
    }
   ],
   "source": [
    "# For loops with index of item\n",
    "items = ['a','b','c','d','e']\n",
    "for i,j in enumerate(items):\n",
    "    print(i,j) "
   ]
  },
  {
   "cell_type": "markdown",
   "id": "6ff4960d",
   "metadata": {},
   "source": [
    "## Control statements in loops:\n",
    "In python breakm continue and pass are three loop control statements used within loops to control their flow. \n",
    "\n",
    "1. break: The break statement is used to terminate the loop immediately when a certain condition is met. Once the break statement is encountered within the loop, the llop is exited, and the program continue with the next statement after the loop.\n",
    "2. continue: The continue statement is used to skip the rest of the loop's bode for the current iteration and continue with the next iteration of the loop. It effectively skips the remaining code in the loop for current iteration.\n",
    "3. pass: The pass statement is a null operation that does nothing. It acts as a placeholder when a statement is syntactically required but no action is needed. It is often used a placeholder in empty loops or conditional blocks."
   ]
  },
  {
   "cell_type": "code",
   "execution_count": 32,
   "id": "8f02efa0",
   "metadata": {},
   "outputs": [
    {
     "name": "stdout",
     "output_type": "stream",
     "text": [
      "0\n",
      "1\n",
      "2\n",
      "3\n"
     ]
    }
   ],
   "source": [
    "for i in range(5):\n",
    "    if i == 4:\n",
    "        break\n",
    "    print(i)"
   ]
  },
  {
   "cell_type": "code",
   "execution_count": 33,
   "id": "73d909c6",
   "metadata": {},
   "outputs": [
    {
     "name": "stdout",
     "output_type": "stream",
     "text": [
      "0\n",
      "1\n",
      "3\n",
      "4\n"
     ]
    }
   ],
   "source": [
    "for i in range(5):\n",
    "    if i ==2:\n",
    "        continue\n",
    "    print(i)"
   ]
  },
  {
   "cell_type": "code",
   "execution_count": 34,
   "id": "1ce77936",
   "metadata": {},
   "outputs": [
    {
     "name": "stdout",
     "output_type": "stream",
     "text": [
      "0\n",
      "1\n",
      "2\n",
      "3\n",
      "4\n"
     ]
    }
   ],
   "source": [
    "for i in range(5):\n",
    "    if i==2:\n",
    "        pass\n",
    "    print(i)"
   ]
  },
  {
   "cell_type": "markdown",
   "id": "bae4c415",
   "metadata": {},
   "source": [
    "# Class\n",
    "In python, class is a blueprint for creating objects. It defines the attributes (data) and method (functions) that all objects created from the class will have."
   ]
  },
  {
   "cell_type": "code",
   "execution_count": 35,
   "id": "78552c96",
   "metadata": {},
   "outputs": [],
   "source": [
    "# Defining a class\n",
    "# A class is defined using the class keyword followed by the class \n",
    "# name and colon\n",
    "class MyClass:\n",
    "    pass"
   ]
  },
  {
   "cell_type": "code",
   "execution_count": 36,
   "id": "cde73633",
   "metadata": {},
   "outputs": [
    {
     "data": {
      "text/plain": [
       "__main__.MyClass"
      ]
     },
     "execution_count": 36,
     "metadata": {},
     "output_type": "execute_result"
    }
   ],
   "source": [
    "MyClass"
   ]
  },
  {
   "cell_type": "code",
   "execution_count": 37,
   "id": "f7a42a00",
   "metadata": {},
   "outputs": [
    {
     "data": {
      "text/plain": [
       "<__main__.MyClass at 0x28a5feff5e0>"
      ]
     },
     "execution_count": 37,
     "metadata": {},
     "output_type": "execute_result"
    }
   ],
   "source": [
    "# Creating Objects (Instances)\n",
    "# Once a class is defined, you can create objects (instances) of that\n",
    "# class using class name followed by parentheses(). This calls the class's\n",
    "# constructor method\n",
    "obj = MyClass()\n",
    "obj"
   ]
  },
  {
   "cell_type": "code",
   "execution_count": 39,
   "id": "6ef6bdc6",
   "metadata": {},
   "outputs": [],
   "source": [
    "# Class Constructor\n",
    "# The __init__ method is a special method/function (also called the \n",
    "# constructor) that is automatically called when a new object is created.\n",
    "# It is used to initialize the object's attributes\n",
    "class Person:\n",
    "    def __init__(self,name,age):\n",
    "        self.name=name\n",
    "        self.age=age\n",
    "        \n",
    "\n",
    "Person = Person('Alice',30)"
   ]
  },
  {
   "cell_type": "code",
   "execution_count": 6,
   "id": "9ab8bba9",
   "metadata": {},
   "outputs": [],
   "source": [
    "# Class attributes and Methods\n",
    "# Attributes are variables that hold data associated with the class or\n",
    "# its objects, while methods are functions defined within the class that\n",
    "# can perform actions or manipulate the class's data.\n",
    "\n",
    "class Dog:\n",
    "    species = 'Canine' # Class attribute\n",
    "    def __init__(self,name):\n",
    "        self.name=name # Instance attribute\n",
    "        \n",
    "    def bark(self):\n",
    "        print('Woof!') # Method\n",
    "        \n",
    "dog1 = Dog('Buddy')"
   ]
  },
  {
   "cell_type": "code",
   "execution_count": 9,
   "id": "5fbf3f2e",
   "metadata": {},
   "outputs": [
    {
     "name": "stdout",
     "output_type": "stream",
     "text": [
      "Buddy\n",
      "Woof!\n",
      "None\n",
      "Canine\n"
     ]
    }
   ],
   "source": [
    "dog1 = Dog('Buddy')\n",
    "print(dog1.name) # Accessing instance attribute\n",
    "print(dog1.bark()) # Calling method\n",
    "print(dog1.species) # Accessing class attribute"
   ]
  },
  {
   "cell_type": "code",
   "execution_count": 25,
   "id": "aa0c778a",
   "metadata": {},
   "outputs": [
    {
     "name": "stdout",
     "output_type": "stream",
     "text": [
      "Animal makes a sound\n",
      "Woof!\n"
     ]
    }
   ],
   "source": [
    "# Inheritance:\n",
    "# Inheritance allows a class (subclass) to inherit the attributes and \n",
    "# methods from another class (superclass). This promotes code reuse and \n",
    "# allows for creating specialized classes based on existing ones.\n",
    "\n",
    "class Animal:\n",
    "    def sound(self):\n",
    "        return 'Animal makes a sound'\n",
    "class Dog(Animal): # Dog inherits from Animal\n",
    "    def bark(self):\n",
    "        return \"Woof!\"\n",
    "    \n",
    "dog = Dog()\n",
    "print(dog.sound())\n",
    "print(dog.bark())"
   ]
  },
  {
   "cell_type": "code",
   "execution_count": 19,
   "id": "9b511c65",
   "metadata": {},
   "outputs": [
    {
     "data": {
      "text/plain": [
       "__main__.Dog"
      ]
     },
     "execution_count": 19,
     "metadata": {},
     "output_type": "execute_result"
    }
   ],
   "source": [
    "type(Dog())"
   ]
  },
  {
   "cell_type": "markdown",
   "id": "c36cf82f",
   "metadata": {},
   "source": [
    "# Modules\n",
    "- In python, a module is a file containing Python code, typically containing definitions of functions, classes, and variables. Modules allow you to organize your Python code logically and facilitate code reuse and sharing. "
   ]
  },
  {
   "cell_type": "markdown",
   "id": "6a0a197e",
   "metadata": {},
   "source": [
    "# Lambda\n",
    "- A lambda function in python is a small anonymous function defined using the lambda keyword. It's called annonymous because it doesn't have a name like a regular function defined using def keyword. Lambda functions can have any number of parameters but can only have one expression. They are often used as quick way to create simple, one-line functions.\n",
    "\n",
    "lamda arguments:expression"
   ]
  },
  {
   "cell_type": "code",
   "execution_count": 27,
   "id": "7f760af2",
   "metadata": {},
   "outputs": [
    {
     "name": "stdout",
     "output_type": "stream",
     "text": [
      "8\n",
      "8\n"
     ]
    }
   ],
   "source": [
    "# Regular function\n",
    "def add(x,y):\n",
    "    return x+y\n",
    "add_lambda = lambda x,y: x+y\n",
    "    \n",
    "print(add(5,3))\n",
    "print(add_lambda(5,3))"
   ]
  },
  {
   "cell_type": "markdown",
   "id": "dd9494c1",
   "metadata": {},
   "source": [
    "Lambda functions are commonly used with functions that accept other functions as arguments, such as map(), filter() and sorted(), or in situations where a small, anonymous functions is needed for a shorter period of time."
   ]
  },
  {
   "cell_type": "markdown",
   "id": "191aab4d",
   "metadata": {},
   "source": [
    "## Map\n",
    "- The map() function applied a given function to each item of an iterable(such as a list) and returns an iterator that yields the results. It takes two arguments, the function to apply and iterable to apply it to.\n",
    "map(function,iterable)"
   ]
  },
  {
   "cell_type": "code",
   "execution_count": 35,
   "id": "96400620",
   "metadata": {},
   "outputs": [
    {
     "data": {
      "text/plain": [
       "[1, 4, 9, 16, 25, 36]"
      ]
     },
     "execution_count": 35,
     "metadata": {},
     "output_type": "execute_result"
    }
   ],
   "source": [
    "numbers = [1,2,3,4,5,6]\n",
    "squared_numbers = map(lambda x: x**2,numbers)\n",
    "list(squared_numbers)"
   ]
  },
  {
   "cell_type": "markdown",
   "id": "318d7145",
   "metadata": {},
   "source": [
    "## Filter \n",
    "- The filter functions filters an iterable to keep only the elements for which a given function returns True. It takes two arguments, the function that defines the filtering condition and iterable to filter.\n",
    "- filter(function,iterable)"
   ]
  },
  {
   "cell_type": "code",
   "execution_count": 36,
   "id": "84e422a2",
   "metadata": {},
   "outputs": [
    {
     "data": {
      "text/plain": [
       "[2, 4, 6, 8]"
      ]
     },
     "execution_count": 36,
     "metadata": {},
     "output_type": "execute_result"
    }
   ],
   "source": [
    "numbers = [1,2,3,4,5,6,7,8]\n",
    "is_even = filter(lambda x: x%2==0,numbers)\n",
    "list(is_even)"
   ]
  },
  {
   "cell_type": "markdown",
   "id": "f928ece6",
   "metadata": {},
   "source": [
    "## Reduce\n",
    "\n",
    "- The reduce function applies a rolling computation to sequential pairs of elements in an iterable, reducing them to single value. It takes three arguments: the function that defines the computation, the iterable to apply it to, and an optional initializer\n",
    "\n",
    "- reduce(function,iterable,initializer=None)"
   ]
  },
  {
   "cell_type": "code",
   "execution_count": 38,
   "id": "93608aea",
   "metadata": {},
   "outputs": [
    {
     "data": {
      "text/plain": [
       "36"
      ]
     },
     "execution_count": 38,
     "metadata": {},
     "output_type": "execute_result"
    }
   ],
   "source": [
    "from functools import reduce\n",
    "numbers = [1,2,3,4,5,6,7,8]\n",
    "\n",
    "addition = reduce(lambda x,y:x+y,numbers)\n",
    "addition"
   ]
  },
  {
   "cell_type": "code",
   "execution_count": null,
   "id": "b749374d",
   "metadata": {},
   "outputs": [],
   "source": []
  }
 ],
 "metadata": {
  "kernelspec": {
   "display_name": "Python 3 (ipykernel)",
   "language": "python",
   "name": "python3"
  },
  "language_info": {
   "codemirror_mode": {
    "name": "ipython",
    "version": 3
   },
   "file_extension": ".py",
   "mimetype": "text/x-python",
   "name": "python",
   "nbconvert_exporter": "python",
   "pygments_lexer": "ipython3",
   "version": "3.10.9"
  }
 },
 "nbformat": 4,
 "nbformat_minor": 5
}
