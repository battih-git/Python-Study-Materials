{
 "cells": [
  {
   "cell_type": "markdown",
   "id": "1654efe5",
   "metadata": {},
   "source": [
    "# What is Python\n",
    "\n",
    "Python is a high-level, versatile programming language known for its simplicity and readability. Created by Guido van Russon in 1980's, Python has gained immense popularity in various domains, including web development, data analysis, artificial intelligence, scientific computing, and more."
   ]
  },
  {
   "cell_type": "markdown",
   "id": "94469b5f",
   "metadata": {},
   "source": [
    "## Why Python?\n",
    "\n",
    "* Readability: Python emphasizes code readability, making it easier for beginners to grasp its syntax and structure.\n",
    "* Versatility: It supports multiple programming paradigms, such as procedural, object oriented, and functional programming.\n",
    "* Vast Ecosystem: Python boasts a vast ecosystem of libraries and frameworks, providing powerfull tools for diverse tasks without reinventing the wheel\n",
    "* Community support: It has a thriving community of developers contributing to its growth, sharing knowledge, and providing extensive reources and support."
   ]
  },
  {
   "cell_type": "markdown",
   "id": "8d8e4eef",
   "metadata": {},
   "source": [
    "## Key-Features of Python\n",
    "* Simple and intutive: Python's syntax is clear and easy to understand, reducing the cost of program maintenance and development\n",
    "* Interpreted language: It's an interpreted language, allowing for quicker development cycles and easier debugging.\n",
    "* Dynamic typing: Pythong is dynamically type, meaning variable types are inferred at runtime, enchancing flexibility and reducing complexity\n",
    "* Indentation-based syntax: Python uses indentation to define code blocks enforcing clean and readable code.\n"
   ]
  },
  {
   "cell_type": "markdown",
   "id": "7bb30f47",
   "metadata": {},
   "source": [
    "## To get started with python"
   ]
  },
  {
   "cell_type": "markdown",
   "id": "9520f72f",
   "metadata": {},
   "source": [
    "### Installation:\n",
    "* To get started with python, you can download it from the official website https://www.python.org/. Python distributions like Anaconda also offer comprehensive packages for scientific computing and analysis. You can download the anaconda installation setup from https://www.anaconda.com/download."
   ]
  }
 ],
 "metadata": {
  "kernelspec": {
   "display_name": "Python 3 (ipykernel)",
   "language": "python",
   "name": "python3"
  },
  "language_info": {
   "codemirror_mode": {
    "name": "ipython",
    "version": 3
   },
   "file_extension": ".py",
   "mimetype": "text/x-python",
   "name": "python",
   "nbconvert_exporter": "python",
   "pygments_lexer": "ipython3",
   "version": "3.10.9"
  }
 },
 "nbformat": 4,
 "nbformat_minor": 5
}
